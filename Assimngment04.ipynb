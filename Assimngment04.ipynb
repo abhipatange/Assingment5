{
 "cells": [
  {
   "cell_type": "code",
   "execution_count": null,
   "id": "acd11a08-ece8-4935-bcf1-36b6474f03e1",
   "metadata": {},
   "outputs": [],
   "source": [
    "Q1. What is the relationship between polynomial functions and kernel functions in machine learning\n",
    "algorithms?"
   ]
  },
  {
   "cell_type": "code",
   "execution_count": null,
   "id": "b9b75d7e-3164-49d0-9fbb-25bbea797f31",
   "metadata": {},
   "outputs": [],
   "source": [
    "Ans = In machine learning, the polynomial kernel is a kernel function commonly used \n",
    "with support vector machines and other kernelized models, \n",
    "that represents the similarity of vectors  in a feature space over\n",
    "polynomials of the original variables, allowing learning of non-linear models."
   ]
  },
  {
   "cell_type": "code",
   "execution_count": null,
   "id": "08df2107-10e0-414e-88e8-a6fe8f479918",
   "metadata": {},
   "outputs": [],
   "source": []
  },
  {
   "cell_type": "code",
   "execution_count": null,
   "id": "2ce8b1ce-3041-4232-bdad-dfa3e534bf52",
   "metadata": {},
   "outputs": [],
   "source": [
    "Q2. How can we implement an SVM with a polynomial kernel in Python using Scikit-learn?"
   ]
  },
  {
   "cell_type": "code",
   "execution_count": null,
   "id": "722914c5-280f-4368-bea2-8a7e75dce9af",
   "metadata": {},
   "outputs": [],
   "source": [
    "Ans = import numpy as np.\n",
    "import matplotlib.pyplot as plt.\n",
    "import pandas as pd.\n",
    "from sklearn.datasets import make_circles."
   ]
  },
  {
   "cell_type": "code",
   "execution_count": null,
   "id": "460c64b4-218e-4a22-9ddd-1c5fc2f15854",
   "metadata": {},
   "outputs": [],
   "source": []
  },
  {
   "cell_type": "code",
   "execution_count": null,
   "id": "a66bd563-4702-4f8a-9ee7-59d47392e98a",
   "metadata": {},
   "outputs": [],
   "source": [
    "Q3. How does increasing the value of epsilon affect the number of support vectors in SVR?"
   ]
  },
  {
   "cell_type": "code",
   "execution_count": null,
   "id": "60af962a-8299-4755-add6-1ce26263bbff",
   "metadata": {},
   "outputs": [],
   "source": [
    "Ans= he value of ε can affect the number of support vectors used to construct\n",
    "the regression function. The bigger ε, the fewer support vectors are selected."
   ]
  },
  {
   "cell_type": "code",
   "execution_count": null,
   "id": "e2cc6d21-1954-4a99-a948-4fd14bbde5bf",
   "metadata": {},
   "outputs": [],
   "source": []
  },
  {
   "cell_type": "code",
   "execution_count": null,
   "id": "2af0e137-7500-4e71-a738-8e1a67ed648d",
   "metadata": {},
   "outputs": [],
   "source": [
    "Q4. How does the choice of kernel function, C parameter, epsilon parameter, and gamma parameter\n",
    "affect the performance of Support Vector Regression (SVR)? Can you explain how each parameter works\n",
    "and provide examples of when you might want to increase or decrease its value?"
   ]
  },
  {
   "cell_type": "code",
   "execution_count": null,
   "id": "7b11d6f4-8177-411e-9a24-d44f3ff4fde7",
   "metadata": {},
   "outputs": [],
   "source": [
    "Ans = The gamma parameters can be seen as the inverse of the radius of influence of samples \n",
    "selected by the model as support vectors. The C parameter trades off correct classification of\n",
    "training examples against maximization of the decision function's margin."
   ]
  }
 ],
 "metadata": {
  "kernelspec": {
   "display_name": "Python 3 (ipykernel)",
   "language": "python",
   "name": "python3"
  },
  "language_info": {
   "codemirror_mode": {
    "name": "ipython",
    "version": 3
   },
   "file_extension": ".py",
   "mimetype": "text/x-python",
   "name": "python",
   "nbconvert_exporter": "python",
   "pygments_lexer": "ipython3",
   "version": "3.10.8"
  }
 },
 "nbformat": 4,
 "nbformat_minor": 5
}
